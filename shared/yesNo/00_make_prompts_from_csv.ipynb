{
 "cells": [
  {
   "cell_type": "code",
   "execution_count": 1,
   "metadata": {},
   "outputs": [
    {
     "name": "stdout",
     "output_type": "stream",
     "text": [
      "Intel MKL WARNING: Support of Intel(R) Streaming SIMD Extensions 4.2 (Intel(R) SSE4.2) enabled only processors has been deprecated. Intel oneAPI Math Kernel Library 2025.0 will require Intel(R) Advanced Vector Extensions (Intel(R) AVX) instructions.\n",
      "Intel MKL WARNING: Support of Intel(R) Streaming SIMD Extensions 4.2 (Intel(R) SSE4.2) enabled only processors has been deprecated. Intel oneAPI Math Kernel Library 2025.0 will require Intel(R) Advanced Vector Extensions (Intel(R) AVX) instructions.\n"
     ]
    }
   ],
   "source": [
    "import pandas as pd"
   ]
  },
  {
   "cell_type": "code",
   "execution_count": 2,
   "metadata": {},
   "outputs": [
    {
     "data": {
      "text/html": [
       "<div>\n",
       "<style scoped>\n",
       "    .dataframe tbody tr th:only-of-type {\n",
       "        vertical-align: middle;\n",
       "    }\n",
       "\n",
       "    .dataframe tbody tr th {\n",
       "        vertical-align: top;\n",
       "    }\n",
       "\n",
       "    .dataframe thead th {\n",
       "        text-align: right;\n",
       "    }\n",
       "</style>\n",
       "<table border=\"1\" class=\"dataframe\">\n",
       "  <thead>\n",
       "    <tr style=\"text-align: right;\">\n",
       "      <th></th>\n",
       "      <th>topic</th>\n",
       "      <th>uniqueName</th>\n",
       "    </tr>\n",
       "  </thead>\n",
       "  <tbody>\n",
       "    <tr>\n",
       "      <th>0</th>\n",
       "      <td>Should abortion be legal?</td>\n",
       "      <td>abortionLegality</td>\n",
       "    </tr>\n",
       "    <tr>\n",
       "      <th>1</th>\n",
       "      <td>Should animals be used for scientific or comme...</td>\n",
       "      <td>animalTesting</td>\n",
       "    </tr>\n",
       "    <tr>\n",
       "      <th>2</th>\n",
       "      <td>Should K-12 students dissect animals in scienc...</td>\n",
       "      <td>studentDissection</td>\n",
       "    </tr>\n",
       "    <tr>\n",
       "      <th>3</th>\n",
       "      <td>Should parents or other adults be able to ban ...</td>\n",
       "      <td>bookBanning</td>\n",
       "    </tr>\n",
       "    <tr>\n",
       "      <th>4</th>\n",
       "      <td>Should birth control pills be available over-t...</td>\n",
       "      <td>otcBirthControl</td>\n",
       "    </tr>\n",
       "    <tr>\n",
       "      <th>...</th>\n",
       "      <td>...</td>\n",
       "      <td>...</td>\n",
       "    </tr>\n",
       "    <tr>\n",
       "      <th>168</th>\n",
       "      <td>Should the US government fund needle exchange ...</td>\n",
       "      <td>fundNeedleExchange</td>\n",
       "    </tr>\n",
       "    <tr>\n",
       "      <th>169</th>\n",
       "      <td>Should the United States ban the export of mil...</td>\n",
       "      <td>banWeaponsExport</td>\n",
       "    </tr>\n",
       "    <tr>\n",
       "      <th>170</th>\n",
       "      <td>Should the government impose stricter regulati...</td>\n",
       "      <td>regulateMining</td>\n",
       "    </tr>\n",
       "    <tr>\n",
       "      <th>171</th>\n",
       "      <td>Should the US adopt a single-payer health care...</td>\n",
       "      <td>singlePayerHealthcare</td>\n",
       "    </tr>\n",
       "    <tr>\n",
       "      <th>172</th>\n",
       "      <td>Should the US government pass a bill to protec...</td>\n",
       "      <td>protectContraceptionAccess</td>\n",
       "    </tr>\n",
       "  </tbody>\n",
       "</table>\n",
       "<p>173 rows × 2 columns</p>\n",
       "</div>"
      ],
      "text/plain": [
       "                                                 topic  \\\n",
       "0                            Should abortion be legal?   \n",
       "1    Should animals be used for scientific or comme...   \n",
       "2    Should K-12 students dissect animals in scienc...   \n",
       "3    Should parents or other adults be able to ban ...   \n",
       "4    Should birth control pills be available over-t...   \n",
       "..                                                 ...   \n",
       "168  Should the US government fund needle exchange ...   \n",
       "169  Should the United States ban the export of mil...   \n",
       "170  Should the government impose stricter regulati...   \n",
       "171  Should the US adopt a single-payer health care...   \n",
       "172  Should the US government pass a bill to protec...   \n",
       "\n",
       "                     uniqueName  \n",
       "0              abortionLegality  \n",
       "1                 animalTesting  \n",
       "2             studentDissection  \n",
       "3                   bookBanning  \n",
       "4               otcBirthControl  \n",
       "..                          ...  \n",
       "168          fundNeedleExchange  \n",
       "169            banWeaponsExport  \n",
       "170              regulateMining  \n",
       "171       singlePayerHealthcare  \n",
       "172  protectContraceptionAccess  \n",
       "\n",
       "[173 rows x 2 columns]"
      ]
     },
     "execution_count": 2,
     "metadata": {},
     "output_type": "execute_result"
    }
   ],
   "source": [
    "questions = pd.read_csv('questions.csv')\n",
    "questions"
   ]
  },
  {
   "cell_type": "code",
   "execution_count": 4,
   "metadata": {},
   "outputs": [
    {
     "data": {
      "text/plain": [
       "0      None\n",
       "1      None\n",
       "2      None\n",
       "3      None\n",
       "4      None\n",
       "       ... \n",
       "168    None\n",
       "169    None\n",
       "170    None\n",
       "171    None\n",
       "172    None\n",
       "Length: 173, dtype: object"
      ]
     },
     "execution_count": 4,
     "metadata": {},
     "output_type": "execute_result"
    }
   ],
   "source": [
    "def makeSurvey(row):\n",
    "\n",
    "    output_text = f\"\"\"---\n",
    "name: shared/yesNo/{row[\"uniqueName\"]}_survey.md\n",
    "title: {row[\"uniqueName\"]}\n",
    "type: multipleChoice\n",
    "---\n",
    "\n",
    "### {row[\"topic\"]}\n",
    "\n",
    "---\n",
    "\n",
    "- Strongly No\n",
    "- Mostly No\n",
    "- Slightly No\n",
    "- Neutral\n",
    "- Slightly Yes\n",
    "- Mostly Yes\n",
    "- Strongly Yes\n",
    "\n",
    "\"\"\"\n",
    "\n",
    "    with open(f\"{row['uniqueName']}_survey.md\", \"w\") as f:\n",
    "        f.write(output_text)\n",
    "\n",
    "questions.apply(makeSurvey, axis=1)"
   ]
  },
  {
   "cell_type": "code",
   "execution_count": 6,
   "metadata": {},
   "outputs": [
    {
     "data": {
      "text/plain": [
       "0      None\n",
       "1      None\n",
       "2      None\n",
       "3      None\n",
       "4      None\n",
       "       ... \n",
       "168    None\n",
       "169    None\n",
       "170    None\n",
       "171    None\n",
       "172    None\n",
       "Length: 173, dtype: object"
      ]
     },
     "execution_count": 6,
     "metadata": {},
     "output_type": "execute_result"
    }
   ],
   "source": [
    "def makeDiscussionPrompt(row):\n",
    "\n",
    "    output_text = f\"\"\"---\n",
    "name: shared/yesNo/{row[\"uniqueName\"]}_discussion.md\n",
    "title: {row[\"uniqueName\"]}\n",
    "type: noResponse\n",
    "---\n",
    "\n",
    "### {row[\"topic\"]}\n",
    "\n",
    "---\n",
    "\n",
    "\"\"\"\n",
    "\n",
    "    with open(f\"{row['uniqueName']}_discussion.md\", \"w\") as f:\n",
    "        f.write(output_text)\n",
    "\n",
    "questions.apply(makeDiscussionPrompt, axis=1)"
   ]
  },
  {
   "cell_type": "code",
   "execution_count": null,
   "metadata": {},
   "outputs": [],
   "source": []
  }
 ],
 "metadata": {
  "kernelspec": {
   "display_name": "base",
   "language": "python",
   "name": "python3"
  },
  "language_info": {
   "codemirror_mode": {
    "name": "ipython",
    "version": 3
   },
   "file_extension": ".py",
   "mimetype": "text/x-python",
   "name": "python",
   "nbconvert_exporter": "python",
   "pygments_lexer": "ipython3",
   "version": "3.9.18"
  }
 },
 "nbformat": 4,
 "nbformat_minor": 2
}
